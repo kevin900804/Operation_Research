{
  "nbformat": 4,
  "nbformat_minor": 0,
  "metadata": {
    "colab": {
      "name": "Makespan",
      "provenance": [],
      "collapsed_sections": []
    },
    "kernelspec": {
      "name": "python3",
      "display_name": "Python 3"
    },
    "language_info": {
      "name": "python"
    }
  },
  "cells": [
    {
      "cell_type": "code",
      "source": [
        "!wget https://github.com/kevin900804/Operation_Research/raw/main/data.xlsx"
      ],
      "metadata": {
        "colab": {
          "base_uri": "https://localhost:8080/"
        },
        "id": "Nwh4VyYNnpP8",
        "outputId": "f9453c17-04f8-47b2-84bf-438e2d875628"
      },
      "execution_count": 157,
      "outputs": [
        {
          "output_type": "stream",
          "name": "stdout",
          "text": [
            "--2022-08-10 07:22:48--  https://github.com/kevin900804/Operation_Research/raw/main/data.xlsx\n",
            "Resolving github.com (github.com)... 20.27.177.113\n",
            "Connecting to github.com (github.com)|20.27.177.113|:443... connected.\n",
            "HTTP request sent, awaiting response... 302 Found\n",
            "Location: https://raw.githubusercontent.com/kevin900804/Operation_Research/main/data.xlsx [following]\n",
            "--2022-08-10 07:22:48--  https://raw.githubusercontent.com/kevin900804/Operation_Research/main/data.xlsx\n",
            "Resolving raw.githubusercontent.com (raw.githubusercontent.com)... 185.199.111.133, 185.199.109.133, 185.199.110.133, ...\n",
            "Connecting to raw.githubusercontent.com (raw.githubusercontent.com)|185.199.111.133|:443... connected.\n",
            "HTTP request sent, awaiting response... 200 OK\n",
            "Length: 13242 (13K) [application/octet-stream]\n",
            "Saving to: ‘data.xlsx’\n",
            "\n",
            "data.xlsx           100%[===================>]  12.93K  --.-KB/s    in 0.001s  \n",
            "\n",
            "2022-08-10 07:22:48 (22.2 MB/s) - ‘data.xlsx’ saved [13242/13242]\n",
            "\n"
          ]
        }
      ]
    },
    {
      "cell_type": "code",
      "source": [
        "import pandas as pd\n",
        "problem1 = pd.read_excel(\"/content/data.xlsx\", \"Problem 1\")\n",
        "problem1.drop(columns = problem1.columns[3:6], inplace = True)\n",
        "\n",
        "machines = range(1, 4)\n",
        "jobs = problem1[\"Job\"]\n",
        "processingTime = problem1[\"Processing time\"]\n",
        "conflictingJobs = problem1[\"Conflicting jobs\"].apply(lambda x: list(map(int, x.split(','))) if x!= \"None\" else [])"
      ],
      "metadata": {
        "id": "TTlMR5sn8pRR"
      },
      "execution_count": 158,
      "outputs": []
    },
    {
      "cell_type": "code",
      "source": [
        "%pip install -i https://pypi.gurobi.com gurobipy"
      ],
      "metadata": {
        "colab": {
          "base_uri": "https://localhost:8080/"
        },
        "id": "v0HdscMInkdb",
        "outputId": "7e5a7a83-23eb-402a-b27e-6293caabedd7"
      },
      "execution_count": 159,
      "outputs": [
        {
          "output_type": "stream",
          "name": "stdout",
          "text": [
            "Looking in indexes: https://pypi.gurobi.com, https://us-python.pkg.dev/colab-wheels/public/simple/\n",
            "Requirement already satisfied: gurobipy in /usr/local/lib/python3.7/dist-packages (9.5.2)\n"
          ]
        }
      ]
    },
    {
      "cell_type": "code",
      "execution_count": 160,
      "metadata": {
        "id": "E-fcPiKnOjP1"
      },
      "outputs": [],
      "source": [
        "from gurobipy import *"
      ]
    },
    {
      "cell_type": "code",
      "source": [
        "makespan = Model(\"makespan\")\n",
        "\n",
        "x = {}\n",
        "for machine in machines:\n",
        "  for job in jobs:\n",
        "      x[machine, job] = makespan.addVar(lb = 0, vtype = GRB.BINARY, name = \"x\" + str(machine) + str (job))\n",
        "z = makespan.addVar(lb = 0, vtype = GRB.CONTINUOUS, name = \"object value\")\n",
        "\n",
        "makespan.setObjective(z, GRB.MINIMIZE)\n",
        "\n",
        "makespan.addConstrs(z >= quicksum(processingTime[job - 1] * x[machine, job] for job in jobs) for machine in machines)\n",
        "makespan.addConstrs(quicksum(x[machine, job] for machine in machines) == 1 for job in jobs)\n",
        "makespan.addConstrs((quicksum(x[machine, i] for i in conflictingJobs[job - 1]) + x[machine, job]) <= 1 for machine in machines for job in jobs)\n",
        "\n",
        "makespan.optimize()"
      ],
      "metadata": {
        "colab": {
          "base_uri": "https://localhost:8080/"
        },
        "id": "54poiK0EJiFx",
        "outputId": "29119d42-ee44-4b87-fc47-f961ecb38642"
      },
      "execution_count": 161,
      "outputs": [
        {
          "output_type": "stream",
          "name": "stdout",
          "text": [
            "Gurobi Optimizer version 9.5.2 build v9.5.2rc0 (linux64)\n",
            "Thread count: 1 physical cores, 2 logical processors, using up to 2 threads\n",
            "Optimize a model with 63 rows, 46 columns and 174 nonzeros\n",
            "Model fingerprint: 0xfb40d5b1\n",
            "Variable types: 1 continuous, 45 integer (45 binary)\n",
            "Coefficient statistics:\n",
            "  Matrix range     [1e+00, 2e+01]\n",
            "  Objective range  [1e+00, 1e+00]\n",
            "  Bounds range     [1e+00, 1e+00]\n",
            "  RHS range        [1e+00, 1e+00]\n",
            "Found heuristic solution: objective 72.0000000\n",
            "Presolve removed 33 rows and 0 columns\n",
            "Presolve time: 0.00s\n",
            "Presolved: 30 rows, 46 columns, 120 nonzeros\n",
            "Variable types: 0 continuous, 46 integer (45 binary)\n",
            "\n",
            "Root relaxation: objective 4.266667e+01, 28 iterations, 0.00 seconds (0.00 work units)\n",
            "\n",
            "    Nodes    |    Current Node    |     Objective Bounds      |     Work\n",
            " Expl Unexpl |  Obj  Depth IntInf | Incumbent    BestBd   Gap | It/Node Time\n",
            "\n",
            "     0     0   42.66667    0    4   72.00000   42.66667  40.7%     -    0s\n",
            "H    0     0                      46.0000000   42.66667  7.25%     -    0s\n",
            "H    0     0                      45.0000000   42.66667  5.19%     -    0s\n",
            "     0     0   43.00000    0    3   45.00000   43.00000  4.44%     -    0s\n",
            "H    0     0                      43.0000000   43.00000  0.00%     -    0s\n",
            "     0     0   43.00000    0    3   43.00000   43.00000  0.00%     -    0s\n",
            "\n",
            "Cutting planes:\n",
            "  Gomory: 1\n",
            "  Cover: 1\n",
            "  GUB cover: 1\n",
            "\n",
            "Explored 1 nodes (37 simplex iterations) in 0.06 seconds (0.00 work units)\n",
            "Thread count was 2 (of 2 available processors)\n",
            "\n",
            "Solution count 4: 43 45 46 72 \n",
            "\n",
            "Optimal solution found (tolerance 1.00e-04)\n",
            "Best objective 4.300000000000e+01, best bound 4.300000000000e+01, gap 0.0000%\n"
          ]
        }
      ]
    },
    {
      "cell_type": "code",
      "source": [
        "print(\"Result:\")\n",
        "for machine in machines:\n",
        "  calculateTime= []\n",
        "  totalTime = 0\n",
        "  print(\"Jobs on machine\" + str(machine) + \":\", end=\" \")\n",
        "  for job in jobs:\n",
        "    if x[machine, job].x == 1:\n",
        "      print(str(job) + \" \", end = \"\")\n",
        "      calculateTime.append(job)\n",
        "  for i in calculateTime:\n",
        "    totalTime += processingTime[i-1]\n",
        "  print(\"total processing time = \" + str(totalTime))\n",
        "\n",
        "print(\"The minimized makespan =\",makespan.objVal)"
      ],
      "metadata": {
        "colab": {
          "base_uri": "https://localhost:8080/"
        },
        "id": "0TbUapNbSDp8",
        "outputId": "b3c34308-7d24-4a0f-d269-128869074752"
      },
      "execution_count": 162,
      "outputs": [
        {
          "output_type": "stream",
          "name": "stdout",
          "text": [
            "Result:\n",
            "Jobs on machine1: 1 4 6 8 10 total processing time = 42\n",
            "Jobs on machine2: 3 5 12 14 15 total processing time = 43\n",
            "Jobs on machine3: 2 7 9 11 13 total processing time = 43\n",
            "The minimized makespan = 43.0\n"
          ]
        }
      ]
    }
  ]
}