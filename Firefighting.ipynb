{
  "nbformat": 4,
  "nbformat_minor": 0,
  "metadata": {
    "colab": {
      "name": "Firefighting.ipynb",
      "provenance": [],
      "collapsed_sections": []
    },
    "kernelspec": {
      "name": "python3",
      "display_name": "Python 3"
    },
    "language_info": {
      "name": "python"
    }
  },
  "cells": [
    {
      "cell_type": "code",
      "execution_count": 128,
      "metadata": {
        "colab": {
          "base_uri": "https://localhost:8080/"
        },
        "id": "Tlq62wOIpVwT",
        "outputId": "84690e3e-3c25-498e-94cd-866e4245ab80"
      },
      "outputs": [
        {
          "output_type": "stream",
          "name": "stdout",
          "text": [
            "--2022-08-10 09:45:15--  https://github.com/kevin900804/Operation_Research/raw/main/data.xlsx\n",
            "Resolving github.com (github.com)... 140.82.112.4\n",
            "Connecting to github.com (github.com)|140.82.112.4|:443... connected.\n",
            "HTTP request sent, awaiting response... 302 Found\n",
            "Location: https://raw.githubusercontent.com/kevin900804/Operation_Research/main/data.xlsx [following]\n",
            "--2022-08-10 09:45:15--  https://raw.githubusercontent.com/kevin900804/Operation_Research/main/data.xlsx\n",
            "Resolving raw.githubusercontent.com (raw.githubusercontent.com)... 185.199.111.133, 185.199.108.133, 185.199.109.133, ...\n",
            "Connecting to raw.githubusercontent.com (raw.githubusercontent.com)|185.199.111.133|:443... connected.\n",
            "HTTP request sent, awaiting response... 200 OK\n",
            "Length: 13242 (13K) [application/octet-stream]\n",
            "Saving to: ‘data.xlsx.5’\n",
            "\n",
            "\rdata.xlsx.5           0%[                    ]       0  --.-KB/s               \rdata.xlsx.5         100%[===================>]  12.93K  --.-KB/s    in 0s      \n",
            "\n",
            "2022-08-10 09:45:15 (94.8 MB/s) - ‘data.xlsx.5’ saved [13242/13242]\n",
            "\n"
          ]
        }
      ],
      "source": [
        "!wget https://github.com/kevin900804/Operation_Research/raw/main/data.xlsx"
      ]
    },
    {
      "cell_type": "code",
      "source": [
        "import pandas as pd\n",
        "problem2 = pd.read_excel(\"/content/data.xlsx\", \"Problem 2\")\n",
        "problem2.drop(columns = problem2.columns[10:], inplace = True)\n",
        "problem2.columns = ['District (from)', 1,2,3,4,5,6,7,8,'Population']\n",
        "\n",
        "districts = problem2['District (from)'].iloc[1:]\n",
        "distance = problem2.iloc[1:, 1:9]\n",
        "population = problem2['Population'].iloc[1:]\n",
        "ambulanceNum = 2"
      ],
      "metadata": {
        "id": "tA6FpAX8rOdJ"
      },
      "execution_count": 129,
      "outputs": []
    },
    {
      "cell_type": "code",
      "source": [
        "%pip install -i https://pypi.gurobi.com gurobipy"
      ],
      "metadata": {
        "colab": {
          "base_uri": "https://localhost:8080/"
        },
        "id": "P1RCLtkOrWhm",
        "outputId": "ef5110a9-f7cf-4a18-f748-70b231212a86"
      },
      "execution_count": 130,
      "outputs": [
        {
          "output_type": "stream",
          "name": "stdout",
          "text": [
            "Looking in indexes: https://pypi.gurobi.com, https://us-python.pkg.dev/colab-wheels/public/simple/\n",
            "Requirement already satisfied: gurobipy in /usr/local/lib/python3.7/dist-packages (9.5.2)\n"
          ]
        }
      ]
    },
    {
      "cell_type": "code",
      "source": [
        "from gurobipy import *\n",
        "firefighting = Model(\"firefighting\")\n",
        "\n",
        "w = {} # the distance between District ii and its closest ambulance\n",
        "x = {} # is 1 if an ambulance is located in District j and 0 otherwise\n",
        "y = {} # is 1 if for District i the closest ambulance is located in District j and 0 otherwise\n",
        "for i in districts:\n",
        "  w[i] = firefighting.addVar(lb = 0, vtype = GRB.INTEGER, name = \"w\" + str(i))\n",
        "  x[i] = firefighting.addVar(lb = 0, vtype = GRB.BINARY, name = \"x\" + str(i))\n",
        "  for j in districts:\n",
        "    y[i, j] = firefighting.addVar(lb = 0, vtype = GRB.BINARY, name = \"y\" + str(i) + str(j))\n",
        "\n",
        "z = firefighting.addVar(lb = 0, vtype = GRB.CONTINUOUS, name = \"object value\")\n",
        "\n",
        "firefighting.setObjective(z, GRB.MINIMIZE)\n",
        "\n",
        "firefighting.addConstr(quicksum(x[i] for i in districts) == ambulanceNum)\n",
        "firefighting.addConstrs(y[i, j] <= x[i] for i in districts for j in districts)\n",
        "firefighting.addConstrs(quicksum(y[i, j] for i in districts) == 1 for j in districts)\n",
        "firefighting.addConstrs((w[i] >= quicksum(y[j, i] * distance[j][i] for j in districts) for i in districts))\n",
        "firefighting.addConstrs(z >= w[i] * population[i] for i in districts)\n",
        "\n",
        "firefighting.optimize()"
      ],
      "metadata": {
        "colab": {
          "base_uri": "https://localhost:8080/"
        },
        "id": "C8KpqYiRrXLl",
        "outputId": "dbf816dc-a204-4321-b05e-8e4259ba30dd"
      },
      "execution_count": 131,
      "outputs": [
        {
          "output_type": "stream",
          "name": "stdout",
          "text": [
            "Gurobi Optimizer version 9.5.2 build v9.5.2rc0 (linux64)\n",
            "Thread count: 1 physical cores, 2 logical processors, using up to 2 threads\n",
            "Optimize a model with 89 rows, 81 columns and 280 nonzeros\n",
            "Model fingerprint: 0x65f0d839\n",
            "Variable types: 1 continuous, 80 integer (72 binary)\n",
            "Coefficient statistics:\n",
            "  Matrix range     [1e+00, 6e+01]\n",
            "  Objective range  [1e+00, 1e+00]\n",
            "  Bounds range     [1e+00, 1e+00]\n",
            "  RHS range        [1e+00, 2e+00]\n",
            "Found heuristic solution: objective 240.0000000\n",
            "Presolve removed 22 rows and 22 columns\n",
            "Presolve time: 0.00s\n",
            "Presolved: 67 rows, 59 columns, 208 nonzeros\n",
            "Variable types: 0 continuous, 59 integer (58 binary)\n",
            "\n",
            "Root relaxation: objective 8.289474e+01, 51 iterations, 0.00 seconds (0.00 work units)\n",
            "\n",
            "    Nodes    |    Current Node    |     Objective Bounds      |     Work\n",
            " Expl Unexpl |  Obj  Depth IntInf | Incumbent    BestBd   Gap | It/Node Time\n",
            "\n",
            "     0     0   82.89474    0   32  240.00000   82.89474  65.5%     -    0s\n",
            "H    0     0                     180.0000000   82.89474  53.9%     -    0s\n",
            "H    0     0                     135.0000000   82.89474  38.6%     -    0s\n",
            "     0     0     cutoff    0       135.00000  135.00000  0.00%     -    0s\n",
            "\n",
            "Cutting planes:\n",
            "  RLT: 7\n",
            "  Relax-and-lift: 4\n",
            "\n",
            "Explored 1 nodes (68 simplex iterations) in 0.06 seconds (0.00 work units)\n",
            "Thread count was 2 (of 2 available processors)\n",
            "\n",
            "Solution count 3: 135 180 240 \n",
            "\n",
            "Optimal solution found (tolerance 1.00e-04)\n",
            "Best objective 1.350000000000e+02, best bound 1.350000000000e+02, gap 0.0000%\n"
          ]
        }
      ]
    },
    {
      "cell_type": "code",
      "source": [
        "print(\"The ambulance should be located in:\", end = \" \")\n",
        "for i in districts:\n",
        "  if x[i].x == 1:\n",
        "    print(\"District\" + str(int(i)), end = \" \")\n",
        "print()\n",
        "\n",
        "print(\"The population-weighted firefighting time:\")\n",
        "for i in districts:\n",
        "  print(\"District\" + str(int(i)) + \":\", w[i].x * population[i])\n",
        "\n",
        "print(\"The maximum population-weighted firefighting time =\", firefighting.objVal)"
      ],
      "metadata": {
        "colab": {
          "base_uri": "https://localhost:8080/"
        },
        "id": "WuUYivWm8rZR",
        "outputId": "74dbe3d0-818b-4a47-fe2f-46c57f991bee"
      },
      "execution_count": 132,
      "outputs": [
        {
          "output_type": "stream",
          "name": "stdout",
          "text": [
            "The ambulance should be located in: District1 District6 \n",
            "The population-weighted firefighting time:\n",
            "District1: 0.0\n",
            "District2: 90.0\n",
            "District3: 105.0\n",
            "District4: 120.0\n",
            "District5: 120.0\n",
            "District6: 0.0\n",
            "District7: 135.0\n",
            "District8: 120.0\n",
            "The maximum population-weighted firefighting time = 135.0\n"
          ]
        }
      ]
    }
  ]
}